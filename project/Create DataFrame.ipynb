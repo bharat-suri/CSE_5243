{
 "cells": [
  {
   "cell_type": "code",
   "execution_count": 1,
   "metadata": {},
   "outputs": [],
   "source": [
    "import time\n",
    "import json\n",
    "import pandas as pd\n",
    "import numpy as np"
   ]
  },
  {
   "cell_type": "code",
   "execution_count": 2,
   "metadata": {},
   "outputs": [],
   "source": [
    "review = '/Volumes/Seagate/SeagateBackupPlus/Github/Yelp/yelp_dataset/review.json'\n",
    "user = '/Volumes/Seagate/SeagateBackupPlus/Github/Yelp/yelp_dataset/user.json'\n",
    "business = '/Volumes/Seagate/SeagateBackupPlus/Github/Yelp/yelp_dataset/business.json'"
   ]
  },
  {
   "cell_type": "code",
   "execution_count": 3,
   "metadata": {},
   "outputs": [],
   "source": [
    "# start = time.time()\n",
    "# c = 0\n",
    "# with open(review, 'r') as f:\n",
    "#     for line in f:\n",
    "#         json_line = json.loads(line)\n",
    "#         c += 1\n",
    "# print ('Review file')\n",
    "# print (time.time() - start, ' s')\n",
    "# print (c)"
   ]
  },
  {
   "cell_type": "code",
   "execution_count": 4,
   "metadata": {},
   "outputs": [
    {
     "name": "stdout",
     "output_type": "stream",
     "text": [
      "Business file\n",
      "3.489339828491211  s\n",
      "192609\n"
     ]
    }
   ],
   "source": [
    "start = time.time()\n",
    "c = 0\n",
    "with open(business, 'r') as f:\n",
    "    for line in f:\n",
    "        json_line = json.loads(line)\n",
    "        c += 1\n",
    "print ('Business file')\n",
    "print (time.time() - start, ' s')\n",
    "print (c)"
   ]
  },
  {
   "cell_type": "code",
   "execution_count": 5,
   "metadata": {},
   "outputs": [],
   "source": [
    "# start = time.time()\n",
    "# c = 0\n",
    "# with open(user, 'r') as f:\n",
    "#     for line in f:\n",
    "#         json_line = json.loads(line)\n",
    "#         c += 1\n",
    "# print ('User file')\n",
    "# print (time.time() - start, ' s')\n",
    "# print (c)"
   ]
  },
  {
   "cell_type": "code",
   "execution_count": 6,
   "metadata": {},
   "outputs": [
    {
     "name": "stdout",
     "output_type": "stream",
     "text": [
      "Business file\n",
      "7.394090890884399  s\n",
      "192609\n"
     ]
    }
   ],
   "source": [
    "start = time.time()\n",
    "c = 0\n",
    "b = []\n",
    "with open(business, 'r') as f:\n",
    "    for line in f:\n",
    "        json_line = json.loads(line)\n",
    "        b.append(json_line)\n",
    "        c += 1\n",
    "\n",
    "df = pd.DataFrame(b)\n",
    "\n",
    "print ('Business file')\n",
    "print (time.time() - start, ' s')\n",
    "print (c)"
   ]
  },
  {
   "cell_type": "code",
   "execution_count": 7,
   "metadata": {},
   "outputs": [],
   "source": [
    "# start = time.time()\n",
    "# c = 0\n",
    "# b = []\n",
    "# with open(user, 'r') as f:\n",
    "#     for line in f:\n",
    "#         json_line = json.loads(line)\n",
    "#         b.append(json_line)\n",
    "#         c += 1\n",
    "\n",
    "# df = pd.DataFrame(b)\n",
    "\n",
    "# print ('User file')\n",
    "# print (time.time() - start, ' s')\n",
    "# print (c)"
   ]
  }
 ],
 "metadata": {
  "kernelspec": {
   "display_name": "Python 3",
   "language": "python",
   "name": "python3"
  },
  "language_info": {
   "codemirror_mode": {
    "name": "ipython",
    "version": 3
   },
   "file_extension": ".py",
   "mimetype": "text/x-python",
   "name": "python",
   "nbconvert_exporter": "python",
   "pygments_lexer": "ipython3",
   "version": "3.7.3"
  }
 },
 "nbformat": 4,
 "nbformat_minor": 2
}
