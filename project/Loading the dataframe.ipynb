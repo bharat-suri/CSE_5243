{
 "cells": [
  {
   "cell_type": "code",
   "execution_count": 12,
   "metadata": {},
   "outputs": [],
   "source": [
    "import pandas as pd\n",
    "import json"
   ]
  },
  {
   "cell_type": "code",
   "execution_count": null,
   "metadata": {},
   "outputs": [],
   "source": [
    "attr={}\n",
    "with open('business.json', encoding=\"utf8\") as file:\n",
    "    for line in file:\n",
    "        record = json.loads(line)\n",
    "        for key in record:\n",
    "            if(isinstance(record[key],dict)):\n",
    "                for key1 in record[key]:\n",
    "                    if(not isinstance(record[key][key1],dict)):\n",
    "                        if key1  not in attr:\n",
    "                            attr[key1] = 0\n",
    "                        else:\n",
    "                            attr[key1] = attr[key1]+1\n",
    "            else:\n",
    "                if key not in attr:\n",
    "                    attr[key] = 0\n",
    "                else:\n",
    "                    attr[key] = attr[key]+1\n",
    "                    \n",
    "for key in attr:\n",
    "    print(key)\n",
    "                    \n",
    "print(\"[\", end =\" \")\n",
    "for key in attr:\n",
    "    print(\"\\'\"+key+\"\\' ,\", end =\" \")\n",
    "print(\"]\", end =\" \")"
   ]
  },
  {
   "cell_type": "code",
   "execution_count": null,
   "metadata": {},
   "outputs": [],
   "source": [
    "df = pd.DataFrame(columns=[ 'business_id' , 'name' , 'address' , 'city' , 'state' , 'postal_code' , 'latitude' , 'longitude' , 'stars' , 'review_count' , 'is_open' , 'GoodForKids' , 'categories' , 'hours' , 'RestaurantsReservations' , 'GoodForMeal' , 'BusinessParking' , 'Caters' , 'NoiseLevel' , 'RestaurantsTableService' , 'RestaurantsTakeOut' , 'RestaurantsPriceRange2' , 'OutdoorSeating' , 'BikeParking' , 'Ambience' , 'HasTV' , 'WiFi' , 'Alcohol' , 'RestaurantsAttire' , 'RestaurantsGoodForGroups' , 'RestaurantsDelivery' , 'Monday' , 'Tuesday' , 'Wednesday' , 'Thursday' , 'Friday' , 'Saturday' , 'Sunday' , 'BusinessAcceptsCreditCards' , 'attributes' , 'BusinessAcceptsBitcoin' , 'ByAppointmentOnly' , 'AcceptsInsurance' , 'Music' , 'GoodForDancing' , 'CoatCheck' , 'HappyHour' , 'BestNights' , 'WheelchairAccessible' , 'DogsAllowed' , 'BYOBCorkage' , 'DriveThru' , 'Smoking' , 'AgesAllowed' , 'HairSpecializesIn' , 'Corkage' , 'BYOB' , 'DietaryRestrictions' , 'Open24Hours' , 'RestaurantsCounterService'])"
   ]
  },
  {
   "cell_type": "code",
   "execution_count": null,
   "metadata": {},
   "outputs": [],
   "source": [
    "df.head()"
   ]
  },
  {
   "cell_type": "code",
   "execution_count": null,
   "metadata": {},
   "outputs": [],
   "source": [
    "with open('business.json', encoding=\"utf8\") as file:\n",
    "    for line in file:\n",
    "        record = json.loads(line)\n",
    "        for key in record:\n",
    "            if(isinstance(record[key],dict)):\n",
    "                for key1 in record[key]:\n",
    "                    if(not isinstance(record[key][key1],dict)):\n",
    "                        if key1 in df.columns:\n",
    "                            df[key1] = record[key][key1]\n",
    "            else:\n",
    "                df[key] = record[key]"
   ]
  },
  {
   "cell_type": "code",
   "execution_count": null,
   "metadata": {},
   "outputs": [],
   "source": [
    "df.head()"
   ]
  },
  {
   "cell_type": "code",
   "execution_count": null,
   "metadata": {},
   "outputs": [],
   "source": []
  }
 ],
 "metadata": {
  "kernelspec": {
   "display_name": "Python 3",
   "language": "python",
   "name": "python3"
  },
  "language_info": {
   "codemirror_mode": {
    "name": "ipython",
    "version": 3
   },
   "file_extension": ".py",
   "mimetype": "text/x-python",
   "name": "python",
   "nbconvert_exporter": "python",
   "pygments_lexer": "ipython3",
   "version": "3.7.4"
  }
 },
 "nbformat": 4,
 "nbformat_minor": 2
}
